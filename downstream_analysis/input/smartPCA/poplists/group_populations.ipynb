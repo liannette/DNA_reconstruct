{
 "cells": [
  {
   "cell_type": "code",
   "execution_count": 17,
   "metadata": {},
   "outputs": [],
   "source": [
    "population_groups = []\n",
    "with open(\"groups.txt\", \"r\") as infile:\n",
    "    # first group\n",
    "    line = infile.readline()\n",
    "    new_group = list()\n",
    "    for line in infile:\n",
    "        # new group\n",
    "        if line.startswith(\"#\"):\n",
    "            population_groups.append(new_group)\n",
    "            new_group = list()\n",
    "        # population\n",
    "        elif line != \"\\n\":\n",
    "            new_group.append(line.rstrip())\n",
    "    # add the last group\n",
    "    population_groups.append(new_group)"
   ]
  },
  {
   "cell_type": "code",
   "execution_count": 33,
   "metadata": {},
   "outputs": [],
   "source": [
    "populations_grouped = []\n",
    "for i in range(len(population_groups)):\n",
    "    for j in range(len(population_groups[i])):\n",
    "        population = population_groups[i][j]\n",
    "        populations_grouped.append(f\"{population}\\t{i}\\t{j}\")\n"
   ]
  },
  {
   "cell_type": "code",
   "execution_count": 34,
   "metadata": {},
   "outputs": [],
   "source": [
    "with open(\"eurasian_grouped.tsv\", \"w\") as outfile:\n",
    "    for line in populations_grouped:\n",
    "        print(line, file=outfile)"
   ]
  }
 ],
 "metadata": {
  "kernelspec": {
   "display_name": "Python 3",
   "language": "python",
   "name": "python3"
  },
  "language_info": {
   "codemirror_mode": {
    "name": "ipython",
    "version": 3
   },
   "file_extension": ".py",
   "mimetype": "text/x-python",
   "name": "python",
   "nbconvert_exporter": "python",
   "pygments_lexer": "ipython3",
   "version": "3.10.9"
  },
  "orig_nbformat": 4,
  "vscode": {
   "interpreter": {
    "hash": "8881f1454b48f52f992768fab5d273efece9fcf6c11881a887f31219dc06b476"
   }
  }
 },
 "nbformat": 4,
 "nbformat_minor": 2
}
